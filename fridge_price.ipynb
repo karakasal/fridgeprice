{
 "cells": [
  {
   "cell_type": "code",
   "execution_count": 1,
   "metadata": {},
   "outputs": [],
   "source": [
    "import pandas as pd\n",
    "import numpy as np\n",
    "import matplotlib.pyplot as plt\n",
    "import seaborn as sns\n",
    "from scipy import stats\n",
    "\n",
    "from sklearn.impute import SimpleImputer\n",
    "from sklearn.preprocessing import OneHotEncoder, StandardScaler, OrdinalEncoder\n",
    "from sklearn.compose import ColumnTransformer\n",
    "from sklearn.pipeline import Pipeline\n",
    "from sklearn.model_selection import train_test_split, GridSearchCV\n",
    "\n",
    "from sklearn.ensemble import RandomForestRegressor\n",
    "\n",
    "import xgboost as xgb\n",
    "from xgboost import XGBRegressor\n",
    "from sklearn.metrics import r2_score, mean_absolute_error"
   ]
  },
  {
   "cell_type": "code",
   "execution_count": null,
   "metadata": {},
   "outputs": [],
   "source": [
    "df = pd.read_csv('assets\\\\fridge_price.csv')\n",
    "df"
   ]
  },
  {
   "cell_type": "code",
   "execution_count": null,
   "metadata": {},
   "outputs": [],
   "source": [
    "df.info()"
   ]
  },
  {
   "cell_type": "code",
   "execution_count": null,
   "metadata": {},
   "outputs": [],
   "source": [
    "df.describe()"
   ]
  },
  {
   "cell_type": "code",
   "execution_count": null,
   "metadata": {},
   "outputs": [],
   "source": [
    "df.isna().sum()"
   ]
  },
  {
   "cell_type": "code",
   "execution_count": null,
   "metadata": {},
   "outputs": [],
   "source": [
    "df_copy = df.copy().drop(df.iloc[:,-3:], axis=1)\n",
    "df_copy = df_copy.dropna(subset='Price')\n",
    "df_copy.info()"
   ]
  },
  {
   "cell_type": "code",
   "execution_count": null,
   "metadata": {},
   "outputs": [],
   "source": [
    "df_copy.nunique().sort_values(ascending=False)"
   ]
  },
  {
   "cell_type": "code",
   "execution_count": null,
   "metadata": {},
   "outputs": [],
   "source": [
    "df_copy.isna().sum()"
   ]
  },
  {
   "cell_type": "code",
   "execution_count": null,
   "metadata": {},
   "outputs": [],
   "source": [
    "df_copy.shape"
   ]
  },
  {
   "cell_type": "code",
   "execution_count": null,
   "metadata": {},
   "outputs": [],
   "source": [
    "cat_cols = [col for col in df_copy.columns if pd.api.types.is_object_dtype(df_copy[col]) and col != 'Price']\n",
    "cat_cols"
   ]
  },
  {
   "cell_type": "code",
   "execution_count": null,
   "metadata": {},
   "outputs": [],
   "source": [
    "num_cols = [col for col in df_copy.columns if col not in cat_cols and col != 'Price']\n",
    "num_cols"
   ]
  },
  {
   "cell_type": "code",
   "execution_count": 12,
   "metadata": {},
   "outputs": [],
   "source": [
    "X = df_copy.drop('Price', axis=1)\n",
    "y = df_copy['Price']\n",
    "\n",
    "X_train, X_test, y_train, y_test = train_test_split(X, y, test_size=0.2, random_state=42, shuffle=True)"
   ]
  },
  {
   "cell_type": "code",
   "execution_count": null,
   "metadata": {},
   "outputs": [],
   "source": [
    "imputer_cat = SimpleImputer(strategy='constant', fill_value='missing')\n",
    "cat_impute = ColumnTransformer([('', imputer_cat, cat_cols)], remainder='passthrough')\n",
    "\n",
    "X_train_1 = pd.DataFrame(cat_impute.fit_transform(X_train), columns=cat_impute.get_feature_names_out())\n",
    "X_test_1 = pd.DataFrame(cat_impute.transform(X_test), columns=cat_impute.get_feature_names_out())\n",
    "\n",
    "X_train_1.isna().sum()"
   ]
  },
  {
   "cell_type": "code",
   "execution_count": null,
   "metadata": {},
   "outputs": [],
   "source": [
    "imputer_num = SimpleImputer(strategy='mean')\n",
    "num_impute = ColumnTransformer([('', imputer_num, ['remainder__' + col for col in num_cols])], remainder='passthrough')\n",
    "\n",
    "X_train_2 = pd.DataFrame(num_impute.fit_transform(X_train_1), columns=num_impute.get_feature_names_out())\n",
    "X_test_2 = pd.DataFrame(num_impute.transform(X_test_1), columns=num_impute.get_feature_names_out())\n",
    "\n",
    "X_train_2.isna().sum()"
   ]
  },
  {
   "cell_type": "code",
   "execution_count": null,
   "metadata": {},
   "outputs": [],
   "source": [
    "scaler = StandardScaler()\n",
    "num_scale = ColumnTransformer([('', scaler, ['__remainder__' + col for col in num_cols])], remainder='passthrough')\n",
    "\n",
    "X_train_3 = pd.DataFrame(num_scale.fit_transform(X_train_2), columns=num_scale.get_feature_names_out())\n",
    "X_test_3 = pd.DataFrame(num_scale.transform(X_test_2), columns=num_scale.get_feature_names_out())\n",
    "\n",
    "X_train_3.isna().sum()"
   ]
  },
  {
   "cell_type": "code",
   "execution_count": 16,
   "metadata": {},
   "outputs": [],
   "source": [
    "X_train_3['remainder__remainder____Model'] = X_train_3['remainder__remainder____Model'].astype('category').cat.codes +1\n",
    "X_test_3['remainder__remainder____Model'] = X_test_3['remainder__remainder____Model'].astype('category').cat.codes +1"
   ]
  },
  {
   "cell_type": "code",
   "execution_count": 17,
   "metadata": {},
   "outputs": [],
   "source": [
    "ordinal = OrdinalEncoder(categories=[X_train_3['remainder__remainder____Energy Rating'].unique().tolist()])\n",
    "\n",
    "X_train_3['remainder__remainder____Energy Rating'] = ordinal.fit_transform(X_train_3[['remainder__remainder____Energy Rating']])\n",
    "X_test_3['remainder__remainder____Energy Rating'] = ordinal.fit_transform(X_test_3[['remainder__remainder____Energy Rating']])"
   ]
  },
  {
   "cell_type": "code",
   "execution_count": null,
   "metadata": {},
   "outputs": [],
   "source": [
    "X_test_3.columns"
   ]
  },
  {
   "cell_type": "code",
   "execution_count": null,
   "metadata": {},
   "outputs": [],
   "source": [
    "encoder = OneHotEncoder(drop='first')\n",
    "cat_encode = ColumnTransformer([('cat_encode', encoder, ['remainder__remainder____' + col for col in cat_cols if col != 'Model' and col != 'Energy Rating'])], remainder='passthrough', sparse_threshold=0)\n",
    "\n",
    "X_train_4 = pd.DataFrame(cat_encode.fit_transform(X_train_3), columns=cat_encode.get_feature_names_out())\n",
    "X_test_4 = pd.DataFrame(cat_encode.transform(X_test_3), columns=cat_encode.get_feature_names_out())\n",
    "\n",
    "X_test_4.columns"
   ]
  },
  {
   "cell_type": "code",
   "execution_count": 20,
   "metadata": {},
   "outputs": [],
   "source": [
    "X_train_4 = X_train_4.astype(float)\n",
    "X_test_4 = X_test_4.astype(float)"
   ]
  },
  {
   "cell_type": "code",
   "execution_count": 21,
   "metadata": {},
   "outputs": [],
   "source": [
    "def clean_name(df):\n",
    "    cols = df.columns\n",
    "    c_cols = []\n",
    "    for col in df.columns:\n",
    "        c_cols.append(col.split('__')[-1])\n",
    "    return c_cols"
   ]
  },
  {
   "cell_type": "code",
   "execution_count": null,
   "metadata": {},
   "outputs": [],
   "source": [
    "X_train_4.columns = clean_name(X_train_4)\n",
    "X_test_4.columns = clean_name(X_test_4)\n",
    "\n",
    "X_train_4"
   ]
  },
  {
   "cell_type": "code",
   "execution_count": null,
   "metadata": {},
   "outputs": [],
   "source": [
    "model = XGBRegressor(random_state=42, n_estimators=2000, max_depth=80, learning_rate=0.002, subsample=0.5, colsample_bytree=0.8)\n",
    "eval_set = [(X_train_4, y_train), (X_test_4, y_test)]\n",
    "model.fit(X_train_4, y_train, eval_set=eval_set ,verbose=1)"
   ]
  },
  {
   "cell_type": "code",
   "execution_count": 24,
   "metadata": {},
   "outputs": [],
   "source": [
    "y_pred = model.predict(X_test_4)\n",
    "t_pred = model.predict(X_train_4)"
   ]
  },
  {
   "cell_type": "code",
   "execution_count": null,
   "metadata": {},
   "outputs": [],
   "source": [
    "r2_score(y_test, y_pred), r2_score(y_train, t_pred)"
   ]
  },
  {
   "cell_type": "code",
   "execution_count": null,
   "metadata": {},
   "outputs": [],
   "source": [
    "mean_absolute_error(y_test, y_pred), mean_absolute_error(y_train, t_pred)"
   ]
  },
  {
   "cell_type": "code",
   "execution_count": null,
   "metadata": {},
   "outputs": [],
   "source": [
    "X_train_numpy = X_train_4.to_numpy()\n",
    "X_train_numpy"
   ]
  },
  {
   "cell_type": "code",
   "execution_count": null,
   "metadata": {},
   "outputs": [],
   "source": [
    "X_test_numpy = X_test_4.to_numpy()\n",
    "X_test_numpy"
   ]
  },
  {
   "cell_type": "code",
   "execution_count": null,
   "metadata": {},
   "outputs": [],
   "source": [
    "import tensorflow.keras as tfk\n",
    "\n",
    "tfk.utils.set_random_seed(42)\n",
    "\n",
    "model_2 = tfk.Sequential([\n",
    "    tfk.layers.Dense(128, input_shape=(31,), activation='relu'),\n",
    "    tfk.layers.Dense(1, activation='linear')\n",
    "])\n",
    "\n",
    "model_2.compile(optimizer=tfk.optimizers.Adam(learning_rate=0.1), loss='mean_absolute_error')"
   ]
  },
  {
   "cell_type": "code",
   "execution_count": null,
   "metadata": {},
   "outputs": [],
   "source": [
    "r = model_2.fit(X_train_numpy, y_train, epochs=200, validation_data=(X_test_numpy, y_test))"
   ]
  },
  {
   "cell_type": "code",
   "execution_count": null,
   "metadata": {},
   "outputs": [],
   "source": [
    "r2_score(y_test, model_2.predict(X_test_numpy))"
   ]
  }
 ],
 "metadata": {
  "kernelspec": {
   "display_name": "Python 3",
   "language": "python",
   "name": "python3"
  },
  "language_info": {
   "codemirror_mode": {
    "name": "ipython",
    "version": 3
   },
   "file_extension": ".py",
   "mimetype": "text/x-python",
   "name": "python",
   "nbconvert_exporter": "python",
   "pygments_lexer": "ipython3",
   "version": "3.12.4"
  }
 },
 "nbformat": 4,
 "nbformat_minor": 2
}
